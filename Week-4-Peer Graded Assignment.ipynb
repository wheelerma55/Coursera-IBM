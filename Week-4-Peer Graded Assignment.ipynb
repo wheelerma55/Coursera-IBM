{
 "cells": [
  {
   "cell_type": "markdown",
   "id": "9ff6ff6e",
   "metadata": {},
   "source": [
    "# My Jupyter Notebook - Week 4 Assignment"
   ]
  },
  {
   "cell_type": "markdown",
   "id": "1ea0d855",
   "metadata": {},
   "source": [
    "**Name: Mark Wheeler**\n",
    "<br>Occupation: Data Analyst    -- Future Occupation: ML Engineer "
   ]
  },
  {
   "cell_type": "markdown",
   "id": "ef27dd5c",
   "metadata": {},
   "source": [
    "_I am interested in data science because I view it as a new technology innovation which will change all aspects of our lives._\n",
    "<br>_A core component of this revolution is the underlying development and maturation of data architectures and resources._\n",
    "<br>_There will be a wave of expanding opportunities and I want to be a part of this new world._"
   ]
  },
  {
   "cell_type": "markdown",
   "id": "1ebd8c85",
   "metadata": {},
   "source": [
    "## This code will demostrate how a dataframe can created using Pandas."
   ]
  },
  {
   "cell_type": "code",
   "execution_count": 5,
   "id": "27b9c3e8",
   "metadata": {},
   "outputs": [
    {
     "name": "stdout",
     "output_type": "stream",
     "text": [
      "Numpy array:\n",
      " [[70 90 80]\n",
      " [68 80 93]]\n",
      "\n",
      "Pandas dataframe:\n",
      "       Markdown  Less  Pretty\n",
      "Sam         70    90      80\n",
      "Emma        68    80      93\n"
     ]
    }
   ],
   "source": [
    "import numpy as np\n",
    "import pandas as pd\n",
    "# sample numpy array\n",
    "arr = np.array([[70, 90, 80], [68, 80, 93]])\n",
    "# convert to pandas dataframe with custom index and column names\n",
    "df = pd.DataFrame(arr, columns=['Markdown', 'Less', 'Pretty'], index=['Sam', 'Emma'])\n",
    "# print\n",
    "print(\"Numpy array:\\n\", arr)\n",
    "print(\"\\nPandas dataframe:\\n\", df)"
   ]
  },
  {
   "cell_type": "code",
   "execution_count": 6,
   "id": "c2482ec2",
   "metadata": {},
   "outputs": [
    {
     "data": {
      "text/html": [
       "<div>\n",
       "<style scoped>\n",
       "    .dataframe tbody tr th:only-of-type {\n",
       "        vertical-align: middle;\n",
       "    }\n",
       "\n",
       "    .dataframe tbody tr th {\n",
       "        vertical-align: top;\n",
       "    }\n",
       "\n",
       "    .dataframe thead th {\n",
       "        text-align: right;\n",
       "    }\n",
       "</style>\n",
       "<table border=\"1\" class=\"dataframe\">\n",
       "  <thead>\n",
       "    <tr style=\"text-align: right;\">\n",
       "      <th></th>\n",
       "      <th>Markdown</th>\n",
       "      <th>Less</th>\n",
       "      <th>Pretty</th>\n",
       "    </tr>\n",
       "  </thead>\n",
       "  <tbody>\n",
       "    <tr>\n",
       "      <th>Sam</th>\n",
       "      <td>70</td>\n",
       "      <td>90</td>\n",
       "      <td>80</td>\n",
       "    </tr>\n",
       "    <tr>\n",
       "      <th>Emma</th>\n",
       "      <td>68</td>\n",
       "      <td>80</td>\n",
       "      <td>93</td>\n",
       "    </tr>\n",
       "  </tbody>\n",
       "</table>\n",
       "</div>"
      ],
      "text/plain": [
       "      Markdown  Less  Pretty\n",
       "Sam         70    90      80\n",
       "Emma        68    80      93"
      ]
     },
     "execution_count": 6,
     "metadata": {},
     "output_type": "execute_result"
    }
   ],
   "source": [
    "df.head()"
   ]
  },
  {
   "cell_type": "markdown",
   "id": "401a894b",
   "metadata": {},
   "source": [
    "## Cell 6 (rendered as Markdown): Using Markdown or HTML, this cell must include at least 3 of the following: horizontal rule, bulleted list, numbered list, tables, hyperlinks, images, code/syntax highlighting, blocked quotes, strikethrough."
   ]
  },
  {
   "cell_type": "markdown",
   "id": "08d090b4",
   "metadata": {},
   "source": [
    "***\n",
    "<br>\n",
    "\n",
    "* Stocks\n",
    "* Bonds\n",
    "* Commodities\n",
    "\n",
    "1. Item 1\n",
    "2. Item 2\n",
    "3. Item 3\n",
    "\n",
    "Markdown | Less | Pretty\n",
    "--- | --- | ---\n",
    "*Still* | `renders` | **nicely**\n",
    "1 | 2 | 3\n",
    "4 | 5 | 6\n",
    "7 | 8 | 9\n",
    "10 | 11 | 12\n",
    "\n",
    "[Link](https://sqlbak.com\n",
    "\"Link to SQLbak\")\n",
    "\n",
    "\n",
    "\n",
    "#### Display image\n",
    "--![Markdown Logo is here.](https://www.fullstackpython.com/img/logos/markdown.png)\n",
    "\n",
    "#### code/syntax highlighting\n",
    "```javascript\n",
    "var s = \"JavaScript syntax highlighting\";\n",
    "alert(s);\n",
    "```\n",
    "```python\n",
    "s = \"Python syntax highlighting\"\n",
    "print s\n",
    "```\n",
    "\n",
    "\n",
    "#### blocked quotes \n",
    ">Beautiful is better than ugly.\n",
    "Explicit is better than implicit.\n",
    "Simple is better than complex.\n",
    "Complex is better than complicated.\n",
    "Flat is better than nested.\n",
    "Sparse is better than dense.\n",
    "Readability counts.\n",
    "Special cases aren't special enough to break the rules.\n",
    "Although practicality beats purity.\n",
    "Errors should never pass silently.\n",
    "Unless explicitly silenced.\n",
    "In the face of ambiguity, refuse the temptation to guess.\n",
    "There should be one-- and preferably only one --obvious way to do it.\n",
    "Although that way may not be obvious at first unless you're Dutch.\n",
    "Now is better than never.\n",
    "Although never is often better than *right* now.\n",
    "If the implementation is hard to explain, it's a bad idea.\n",
    "If the implementation is easy to explain, it may be a good idea.\n",
    "Namespaces are one honking great idea -- let's do more of those! **The Zen of Python**\n",
    "\n",
    "#### strikethrough\n",
    "~~i=1 ~~//Variable changed from 1 to 5\n",
    "<br>i=5\n",
    "<br>while (i<=5):\n",
    "<br>    print(i)\n",
    "<br>    i=i+1\n",
    "<br>"
   ]
  },
  {
   "cell_type": "code",
   "execution_count": null,
   "id": "bea3b67b",
   "metadata": {},
   "outputs": [],
   "source": []
  }
 ],
 "metadata": {
  "kernelspec": {
   "display_name": "Python 3 (ipykernel)",
   "language": "python",
   "name": "python3"
  },
  "language_info": {
   "codemirror_mode": {
    "name": "ipython",
    "version": 3
   },
   "file_extension": ".py",
   "mimetype": "text/x-python",
   "name": "python",
   "nbconvert_exporter": "python",
   "pygments_lexer": "ipython3",
   "version": "3.10.0"
  }
 },
 "nbformat": 4,
 "nbformat_minor": 5
}
